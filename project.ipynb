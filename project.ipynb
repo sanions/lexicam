{
 "cells": [
  {
   "cell_type": "code",
   "execution_count": 25,
   "metadata": {},
   "outputs": [
    {
     "name": "stdout",
     "output_type": "stream",
     "text": [
      "Requirement already satisfied: pytesseract in /Library/Frameworks/Python.framework/Versions/3.11/lib/python3.11/site-packages (0.3.10)\n",
      "Requirement already satisfied: packaging>=21.3 in /Library/Frameworks/Python.framework/Versions/3.11/lib/python3.11/site-packages (from pytesseract) (23.0)\n",
      "Requirement already satisfied: Pillow>=8.0.0 in /Library/Frameworks/Python.framework/Versions/3.11/lib/python3.11/site-packages (from pytesseract) (9.4.0)\n",
      "Note: you may need to restart the kernel to use updated packages.\n",
      "\u001b[31mERROR: Could not find a version that satisfies the requirement PIL (from versions: none)\u001b[0m\u001b[31m\n",
      "\u001b[0m\u001b[31mERROR: No matching distribution found for PIL\u001b[0m\u001b[31m\n",
      "\u001b[0mNote: you may need to restart the kernel to use updated packages.\n",
      "\u001b[31mERROR: Could not find a version that satisfies the requirement cv2 (from versions: none)\u001b[0m\u001b[31m\n",
      "\u001b[0m\u001b[31mERROR: No matching distribution found for cv2\u001b[0m\u001b[31m\n",
      "\u001b[0mNote: you may need to restart the kernel to use updated packages.\n"
     ]
    }
   ],
   "source": [
    "%pip install pytesseract\n",
    "%pip install PIL\n",
    "%pip install cv2"
   ]
  },
  {
   "cell_type": "code",
   "execution_count": 26,
   "id": "fd011164",
   "metadata": {},
   "outputs": [],
   "source": [
    "import pytesseract\n",
    "from pytesseract import Output\n",
    "from PIL import Image\n",
    "import cv2"
   ]
  },
  {
   "cell_type": "code",
   "execution_count": 27,
   "id": "d1328444",
   "metadata": {},
   "outputs": [],
   "source": [
    "image = cv2.imread('test.jpeg')\n",
    "gray = cv2.cvtColor(image, cv2.COLOR_BGR2GRAY)"
   ]
  },
  {
   "cell_type": "code",
   "execution_count": 28,
   "id": "c52e50c1",
   "metadata": {},
   "outputs": [
    {
     "name": "stdout",
     "output_type": "stream",
     "text": [
      "{'level': [1, 2, 3, 4, 5, 4, 5, 5, 4, 5, 5, 4, 5, 5], 'page_num': [1, 1, 1, 1, 1, 1, 1, 1, 1, 1, 1, 1, 1, 1], 'block_num': [0, 1, 1, 1, 1, 1, 1, 1, 1, 1, 1, 1, 1, 1], 'par_num': [0, 0, 1, 1, 1, 1, 1, 1, 1, 1, 1, 1, 1, 1], 'line_num': [0, 0, 0, 1, 1, 2, 2, 2, 3, 3, 3, 4, 4, 4], 'word_num': [0, 0, 0, 0, 1, 0, 1, 2, 0, 1, 2, 0, 1, 2], 'left': [0, 554, 554, 1233, 1233, 715, 715, 1389, 563, 563, 1731, 554, 554, 1800], 'top': [0, 411, 411, 411, 411, 980, 980, 973, 1544, 1548, 1544, 2110, 2110, 2116], 'width': [3024, 2053, 2053, 598, 598, 582, 582, 950, 2044, 1045, 876, 1901, 1052, 655], 'height': [4032, 1973, 1973, 268, 268, 297, 297, 273, 264, 260, 264, 274, 261, 268], 'conf': [-1, -1, -1, -1, 96, -1, 25, 96, -1, 96, 96, -1, 96, 96], 'text': ['', '', '', '', 'MIT', '', 'iHQ', 'STAFF', '', 'USAGE', 'ONLY', '', 'THANK', 'YOU']}\n"
     ]
    }
   ],
   "source": [
    "data = pytesseract.image_to_data(gray, output_type=Output.DICT)\n",
    "print(data)"
   ]
  },
  {
   "cell_type": "code",
   "execution_count": 36,
   "id": "fb40a063",
   "metadata": {},
   "outputs": [],
   "source": [
    "n_boxes = len(data['level'])\n",
    "for i in range(n_boxes):\n",
    "    # Filter out weakest confidence recognitions so bounding box around everything isn't drawn\n",
    "    if int(data['conf'][i]) > 10:  # you can adjust the confidence threshold\n",
    "        (x, y, w, h) = (data['left'][i], data['top'][i], data['width'][i], data['height'][i])\n",
    "        cv2.rectangle(image, (x, y), (x + w, y + h), (0, 255, 0), 2)  # Draw rectangle with green color and 2 px thickness"
   ]
  },
  {
   "cell_type": "code",
   "execution_count": 37,
   "id": "3b5ec3fe",
   "metadata": {},
   "outputs": [
    {
     "data": {
      "text/plain": [
       "True"
      ]
     },
     "execution_count": 37,
     "metadata": {},
     "output_type": "execute_result"
    }
   ],
   "source": [
    "output_file = 'test_output2.png'\n",
    "cv2.imwrite(output_file, image)"
   ]
  }
 ],
 "metadata": {
  "kernelspec": {
   "display_name": "Python 3",
   "language": "python",
   "name": "python3"
  },
  "language_info": {
   "codemirror_mode": {
    "name": "ipython",
    "version": 3
   },
   "file_extension": ".py",
   "mimetype": "text/x-python",
   "name": "python",
   "nbconvert_exporter": "python",
   "pygments_lexer": "ipython3",
   "version": "3.11.1"
  }
 },
 "nbformat": 4,
 "nbformat_minor": 5
}
