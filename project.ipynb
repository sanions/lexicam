{
 "cells": [
  {
   "cell_type": "code",
   "execution_count": 18,
   "metadata": {},
   "outputs": [
    {
     "name": "stdout",
     "output_type": "stream",
     "text": [
      "Requirement already satisfied: pytesseract in /Library/Frameworks/Python.framework/Versions/3.11/lib/python3.11/site-packages (0.3.10)\n",
      "Requirement already satisfied: packaging>=21.3 in /Library/Frameworks/Python.framework/Versions/3.11/lib/python3.11/site-packages (from pytesseract) (23.0)\n",
      "Requirement already satisfied: Pillow>=8.0.0 in /Library/Frameworks/Python.framework/Versions/3.11/lib/python3.11/site-packages (from pytesseract) (9.4.0)\n",
      "Note: you may need to restart the kernel to use updated packages.\n",
      "\u001b[31mERROR: Could not find a version that satisfies the requirement PIL (from versions: none)\u001b[0m\u001b[31m\n",
      "\u001b[0m\u001b[31mERROR: No matching distribution found for PIL\u001b[0m\u001b[31m\n",
      "\u001b[0mNote: you may need to restart the kernel to use updated packages.\n",
      "\u001b[31mERROR: Could not find a version that satisfies the requirement cv2 (from versions: none)\u001b[0m\u001b[31m\n",
      "\u001b[0m\u001b[31mERROR: No matching distribution found for cv2\u001b[0m\u001b[31m\n",
      "\u001b[0mNote: you may need to restart the kernel to use updated packages.\n"
     ]
    }
   ],
   "source": [
    "%pip install pytesseract\n",
    "%pip install PIL\n",
    "%pip install cv2"
   ]
  },
  {
   "cell_type": "code",
   "execution_count": 19,
   "id": "fd011164",
   "metadata": {},
   "outputs": [],
   "source": [
    "import pytesseract\n",
    "from pytesseract import Output\n",
    "from PIL import Image\n",
    "import cv2"
   ]
  },
  {
   "cell_type": "markdown",
   "id": "c4d58379",
   "metadata": {},
   "source": [
    "## OCR for word-level segmentation"
   ]
  },
  {
   "cell_type": "code",
   "execution_count": 25,
   "id": "d1328444",
   "metadata": {},
   "outputs": [],
   "source": [
    "image = cv2.imread('images/book2.jpeg')\n",
    "gray = cv2.cvtColor(image, cv2.COLOR_BGR2GRAY) # convert to grayscale"
   ]
  },
  {
   "cell_type": "code",
   "execution_count": 41,
   "id": "c52e50c1",
   "metadata": {},
   "outputs": [
    {
     "name": "stdout",
     "output_type": "stream",
     "text": [
      "{'level': [1, 2, 3, 4, 5, 5, 5, 5, 5, 5, 5, 5, 5, 5, 5, 4, 5, 5, 5, 5, 5, 5, 5, 5, 5, 5, 5, 5, 4, 5, 5, 5, 5, 5, 5, 5, 5, 5, 5, 5, 4, 5, 5, 5, 5, 5, 5, 5, 5, 5, 5, 5, 2, 3, 4, 5, 5, 5, 5, 5], 'page_num': [1, 1, 1, 1, 1, 1, 1, 1, 1, 1, 1, 1, 1, 1, 1, 1, 1, 1, 1, 1, 1, 1, 1, 1, 1, 1, 1, 1, 1, 1, 1, 1, 1, 1, 1, 1, 1, 1, 1, 1, 1, 1, 1, 1, 1, 1, 1, 1, 1, 1, 1, 1, 1, 1, 1, 1, 1, 1, 1, 1], 'block_num': [0, 1, 1, 1, 1, 1, 1, 1, 1, 1, 1, 1, 1, 1, 1, 1, 1, 1, 1, 1, 1, 1, 1, 1, 1, 1, 1, 1, 1, 1, 1, 1, 1, 1, 1, 1, 1, 1, 1, 1, 1, 1, 1, 1, 1, 1, 1, 1, 1, 1, 1, 1, 2, 2, 2, 2, 2, 2, 2, 2], 'par_num': [0, 0, 1, 1, 1, 1, 1, 1, 1, 1, 1, 1, 1, 1, 1, 1, 1, 1, 1, 1, 1, 1, 1, 1, 1, 1, 1, 1, 1, 1, 1, 1, 1, 1, 1, 1, 1, 1, 1, 1, 1, 1, 1, 1, 1, 1, 1, 1, 1, 1, 1, 1, 0, 1, 1, 1, 1, 1, 1, 1], 'line_num': [0, 0, 0, 1, 1, 1, 1, 1, 1, 1, 1, 1, 1, 1, 1, 2, 2, 2, 2, 2, 2, 2, 2, 2, 2, 2, 2, 2, 3, 3, 3, 3, 3, 3, 3, 3, 3, 3, 3, 3, 4, 4, 4, 4, 4, 4, 4, 4, 4, 4, 4, 4, 0, 0, 1, 1, 1, 1, 1, 1], 'word_num': [0, 0, 0, 0, 1, 2, 3, 4, 5, 6, 7, 8, 9, 10, 11, 0, 1, 2, 3, 4, 5, 6, 7, 8, 9, 10, 11, 12, 0, 1, 2, 3, 4, 5, 6, 7, 8, 9, 10, 11, 0, 1, 2, 3, 4, 5, 6, 7, 8, 9, 10, 11, 0, 0, 0, 1, 2, 3, 4, 5], 'left': [0, 125, 125, 145, 145, 415, 581, 995, 1105, 1185, 1700, 2066, 2496, 2572, 2827, 143, 143, 436, 852, 1145, 1278, 1327, 1541, 1891, 2209, 2574, 2642, 2830, 134, 134, 483, 664, 821, 894, 1161, 1403, 1618, 1842, 2095, 2778, 125, 125, 346, 646, 783, 937, 1502, 1737, 1966, 2210, 2282, 2723, 139, 139, 139, 139, 456, 752, 1205, 1306], 'top': [0, 102, 102, 102, 105, 104, 103, 102, 122, 102, 105, 109, 135, 136, 124, 219, 223, 219, 219, 229, 239, 219, 220, 223, 225, 252, 253, 238, 336, 339, 336, 336, 357, 336, 357, 336, 338, 338, 347, 350, 453, 456, 453, 453, 453, 454, 454, 455, 456, 478, 458, 466, 570, 570, 570, 570, 572, 580, 571, 572], 'width': [3024, 2779, 2779, 2751, 240, 125, 373, 74, 35, 472, 325, 391, 34, 217, 69, 2756, 257, 376, 256, 72, 7, 179, 309, 281, 332, 34, 157, 69, 2770, 315, 139, 115, 35, 224, 211, 180, 186, 212, 643, 126, 2778, 192, 268, 111, 122, 535, 206, 192, 207, 35, 406, 180, 1496, 1496, 1496, 281, 260, 419, 72, 329], 'height': [742, 450, 450, 107, 77, 74, 73, 74, 53, 75, 74, 89, 51, 73, 70, 105, 83, 76, 73, 64, 54, 74, 92, 91, 76, 51, 71, 70, 97, 91, 75, 74, 53, 74, 71, 75, 73, 74, 86, 73, 99, 73, 75, 74, 74, 73, 74, 74, 73, 52, 91, 86, 94, 94, 94, 94, 72, 65, 73, 92], 'conf': [-1, -1, -1, -1, 95, 96, 96, 96, 96, 96, 96, 96, 96, 96, 96, -1, 96, 96, 96, 95, 95, 96, 96, 96, 96, 96, 96, 96, -1, 96, 96, 96, 96, 96, 96, 95, 96, 96, 96, 96, -1, 96, 96, 96, 96, 96, 96, 96, 96, 96, 96, 96, -1, -1, -1, 96, 95, 95, 96, 94], 'text': ['', '', '', '', 'Under', 'the', 'influence', 'of', 'a', 'charismatic', 'classics', 'professor,', 'a', 'group', 'of', '', 'clever,', 'eccentric', 'misfits', 'at', 'a', 'New', 'England', 'college', 'discover', 'a', 'way', 'of', '', 'thought', 'and', 'life', 'a', 'world', 'away', 'from', 'their', 'banal', 'contemporaries.', 'But', '', 'their', 'search', 'for', 'the', 'transcendent', 'leads', 'them', 'down', 'a', 'dangerous', 'path,', '', '', '', 'beyond', 'human', 'constructs', 'of', 'morality.']}\n"
     ]
    }
   ],
   "source": [
    "data = pytesseract.image_to_data(gray, output_type=Output.DICT)\n",
    "print(data)"
   ]
  },
  {
   "cell_type": "code",
   "execution_count": 44,
   "id": "fb40a063",
   "metadata": {},
   "outputs": [],
   "source": [
    "n_boxes = len(data['level'])\n",
    "for i in range(n_boxes):\n",
    "    # filter out weakest confidence recognitions so bounding box around everything isn't drawn\n",
    "    if int(data['conf'][i]) > 10: # out of 100\n",
    "        (x, y, w, h) = (data['left'][i], data['top'][i], data['width'][i], data['height'][i])\n",
    "        cv2.rectangle(image, (x, y), (x + w, y + h), (0, 255, 0), 5)  # green rectangle drawn"
   ]
  },
  {
   "cell_type": "code",
   "execution_count": 45,
   "id": "3b5ec3fe",
   "metadata": {},
   "outputs": [
    {
     "data": {
      "text/plain": [
       "True"
      ]
     },
     "execution_count": 45,
     "metadata": {},
     "output_type": "execute_result"
    }
   ],
   "source": [
    "output_file = 'images/book2_output.png'\n",
    "cv2.imwrite(output_file, image)"
   ]
  },
  {
   "cell_type": "markdown",
   "id": "9e5bb544",
   "metadata": {},
   "source": [
    "## OCR for sentence-level segmentation"
   ]
  },
  {
   "cell_type": "code",
   "execution_count": 29,
   "id": "9beb75e5",
   "metadata": {},
   "outputs": [],
   "source": [
    "def get_surrounding_words(words, word_index, radius=10):\n",
    "    start_index = max(word_index - radius, 0)\n",
    "    end_index = min(word_index + radius + 1, len(words))\n",
    "    return words[start_index:word_index], words[word_index + 1:end_index]"
   ]
  },
  {
   "cell_type": "code",
   "execution_count": 30,
   "id": "48c8f288",
   "metadata": {},
   "outputs": [],
   "source": [
    "# collect all words and their bounding boxes\n",
    "words_and_boxes = []\n",
    "\n",
    "for i in range(len(data['text'])):\n",
    "    if int(data['conf'][i]) > 10:\n",
    "        word = data['text'][i]\n",
    "        bounding_box = (data['left'][i], data['top'][i], data['width'][i], data['height'][i])\n",
    "        words_and_boxes.append((word, bounding_box))\n",
    "\n",
    "# search for the desired word, e.g., banal\n",
    "desired_word = 'banal'\n",
    "desired_word_index = None\n",
    "for index, (word, box) in enumerate(words_and_boxes):\n",
    "    if word.lower() == desired_word.lower():\n",
    "        desired_word_index = index\n",
    "        break"
   ]
  },
  {
   "cell_type": "code",
   "execution_count": 38,
   "id": "4507fe10",
   "metadata": {},
   "outputs": [],
   "source": [
    "if desired_word_index is not None:\n",
    "    before_words, after_words = get_surrounding_words(words_and_boxes, desired_word_index, 10)\n",
    "\n",
    "    # desired word\n",
    "    x, y, w, h = words_and_boxes[desired_word_index][1]\n",
    "    cv2.rectangle(image, (x, y), (x + w, y + h), (0, 0, 255), 5) # this is BGR (Blue, Green, Red) format!\n",
    "\n",
    "    # words before the desired word\n",
    "    for _, box in before_words:\n",
    "        x, y, w, h = box\n",
    "        cv2.rectangle(image, (x, y), (x + w, y + h), (255, 0, 0), 5)\n",
    "\n",
    "    # words after the desired word\n",
    "    for _, box in after_words:\n",
    "        x, y, w, h = box\n",
    "        cv2.rectangle(image, (x, y), (x + w, y + h), (255, 0, 0), 5)\n",
    "else:\n",
    "    print(\"desired word not found in the text.\")"
   ]
  },
  {
   "cell_type": "code",
   "execution_count": 39,
   "id": "88469a5d",
   "metadata": {},
   "outputs": [
    {
     "data": {
      "text/plain": [
       "True"
      ]
     },
     "execution_count": 39,
     "metadata": {},
     "output_type": "execute_result"
    }
   ],
   "source": [
    "output_file = 'images/book2_context.png'\n",
    "cv2.imwrite(output_file, image)"
   ]
  }
 ],
 "metadata": {
  "kernelspec": {
   "display_name": "Python 3",
   "language": "python",
   "name": "python3"
  },
  "language_info": {
   "codemirror_mode": {
    "name": "ipython",
    "version": 3
   },
   "file_extension": ".py",
   "mimetype": "text/x-python",
   "name": "python",
   "nbconvert_exporter": "python",
   "pygments_lexer": "ipython3",
   "version": "3.11.1"
  }
 },
 "nbformat": 4,
 "nbformat_minor": 5
}
